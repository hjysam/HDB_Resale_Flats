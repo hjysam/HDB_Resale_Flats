{
 "cells": [
  {
   "cell_type": "markdown",
   "metadata": {},
   "source": [
    "Various variables contribute to the selling price of HDB resale flats in Singapore. Develop a regression model to gauge the impact of factors such as proximity to the CBD and the nearest MRT station, alongside considerations like flat size, floor level, and remaining lease duration, on the selling price of HDB resale flats."
   ]
  },
  {
   "cell_type": "markdown",
   "metadata": {},
   "source": [
    "# Step 1: Create SVY21 Converter "
   ]
  },
  {
   "cell_type": "markdown",
   "metadata": {},
   "source": [
    "SVY21 is a geodetic datum which is introduced in Singapore whereas WSG84 is standard for GPS. Gooplemap only provides WSG84. \n",
    "\n",
    "Below is the Python Class for conversion between SVY21 and WSG84 "
   ]
  },
  {
   "cell_type": "code",
   "execution_count": 1,
   "metadata": {},
   "outputs": [],
   "source": [
    "#Convert between Lat/Lon, and SVY21\n",
    "#from https://github.com/cgcai/SVY21\n",
    "\n",
    "import math\n",
    "from sys import argv\n",
    "import csv\n",
    "\n",
    "class SVY21:\n",
    "    # Ref: http://www.linz.govt.nz/geodetic/conversion-coordinates/projection-conversions/transverse-mercator-preliminary-computations/index.aspx\n",
    "\n",
    "    # WGS84 Datum\n",
    "    a = 6378137\n",
    "    f = 1 / 298.257223563\n",
    "\n",
    "    # SVY21 Projection\n",
    "    # Fundamental point: Base 7 at Pierce Resevoir.\n",
    "    # Latitude: 1 22 02.9154 N, longitude: 103 49 31.9752 E (of Greenwich).\n",
    "\n",
    "    # Known Issue: Setting (oLat, oLon) to the exact coordinates specified above\n",
    "    # results in computation being slightly off. The values below give the most\n",
    "    # accurate represenation of test data.\n",
    "    oLat = 1.366666  # origin's lat in degrees\n",
    "    oLon = 103.833333  # origin's lon in degrees\n",
    "    oN = 38744.572  # false Northing\n",
    "    oE = 28001.642  # false Easting\n",
    "    k = 1  # scale factor\n",
    "\n",
    "    #\n",
    "    def __init__(self):\n",
    "        self.b = self.a * (1 - self.f)\n",
    "        self.e2 = (2 * self.f) - (self.f * self.f)\n",
    "        self.e4 = self.e2 * self.e2\n",
    "        self.e6 = self.e4 * self.e2\n",
    "        self.A0 = 1 - (self.e2 / 4) - (3 * self.e4 / 64) - (5 * self.e6 / 256);\n",
    "        self.A2 = (3. / 8.) * (self.e2 + (self.e4 / 4) + (15 * self.e6 / 128));\n",
    "        self.A4 = (15. / 256.) * (self.e4 + (3 * self.e6 / 4));\n",
    "        self.A6 = 35 * self.e6 / 3072;\n",
    "\n",
    "    def computeSVY21(self, lat, lon):\n",
    "        \"\"\"\n",
    "        Returns a pair (N, E) representing Northings and Eastings in SVY21.\n",
    "        \"\"\"\n",
    "\n",
    "        latR = lat * math.pi / 180\n",
    "        sinLat = math.sin(latR)\n",
    "        sin2Lat = sinLat * sinLat\n",
    "        cosLat = math.cos(latR)\n",
    "        cos2Lat = cosLat * cosLat\n",
    "        cos3Lat = cos2Lat * cosLat\n",
    "        cos4Lat = cos3Lat * cosLat\n",
    "        cos5Lat = cos4Lat * cosLat\n",
    "        cos6Lat = cos5Lat * cosLat\n",
    "        cos7Lat = cos6Lat * cosLat\n",
    "\n",
    "        rho = self.calcRho(sin2Lat)\n",
    "        v = self.calcV(sin2Lat)\n",
    "        psi = v / rho\n",
    "        t = math.tan(latR)\n",
    "        w = (lon - self.oLon) * math.pi / 180\n",
    "\n",
    "        M = self.calcM(lat)\n",
    "        Mo = self.calcM(self.oLat)\n",
    "\n",
    "        w2 = w * w\n",
    "        w4 = w2 * w2\n",
    "        w6 = w4 * w2\n",
    "        w8 = w6 * w2\n",
    "\n",
    "        psi2 = psi * psi\n",
    "        psi3 = psi2 * psi\n",
    "        psi4 = psi3 * psi\n",
    "\n",
    "        t2 = t * t\n",
    "        t4 = t2 * t2\n",
    "        t6 = t4 * t2\n",
    "\n",
    "        # Compute Northing\n",
    "        nTerm1 = w2 / 2 * v * sinLat * cosLat\n",
    "        nTerm2 = w4 / 24 * v * sinLat * cos3Lat * (4 * psi2 + psi - t2)\n",
    "        nTerm3 = w6 / 720 * v * sinLat * cos5Lat * (\n",
    "                (8 * psi4) * (11 - 24 * t2) - (28 * psi3) * (1 - 6 * t2) + psi2 * (1 - 32 * t2) - psi * 2 * t2 + t4)\n",
    "        nTerm4 = w8 / 40320 * v * sinLat * cos7Lat * (1385 - 3111 * t2 + 543 * t4 - t6)\n",
    "        N = self.oN + self.k * (M - Mo + nTerm1 + nTerm2 + nTerm3 + nTerm4)\n",
    "\n",
    "        # Compute Easting\n",
    "        eTerm1 = w2 / 6 * cos2Lat * (psi - t2)\n",
    "        eTerm2 = w4 / 120 * cos4Lat * ((4 * psi3) * (1 - 6 * t2) + psi2 * (1 + 8 * t2) - psi * 2 * t2 + t4)\n",
    "        eTerm3 = w6 / 5040 * cos6Lat * (61 - 479 * t2 + 179 * t4 - t6)\n",
    "        E = self.oE + self.k * v * w * cosLat * (1 + eTerm1 + eTerm2 + eTerm3)\n",
    "\n",
    "        return (N, E)\n",
    "\n",
    "    def calcM(self, lat):\n",
    "        latR = lat * math.pi / 180\n",
    "        return self.a * ((self.A0 * latR) - (self.A2 * math.sin(2 * latR)) + (self.A4 * math.sin(4 * latR)) - (\n",
    "                self.A6 * math.sin(6 * latR)))\n",
    "\n",
    "    def calcRho(self, sin2Lat):\n",
    "        num = self.a * (1 - self.e2)\n",
    "        denom = math.pow(1 - self.e2 * sin2Lat, 3. / 2.)\n",
    "        return num / denom\n",
    "\n",
    "    def calcV(self, sin2Lat):\n",
    "        poly = 1 - self.e2 * sin2Lat\n",
    "        return self.a / math.sqrt(poly)\n",
    "\n",
    "    def computeLatLon(self, N, E):\n",
    "        \"\"\"\n",
    "        Returns a pair (lat, lon) representing Latitude and Longitude.\n",
    "        \"\"\"\n",
    "\n",
    "        Nprime = N - self.oN\n",
    "        Mo = self.calcM(self.oLat)\n",
    "        Mprime = Mo + (Nprime / self.k)\n",
    "        n = (self.a - self.b) / (self.a + self.b)\n",
    "        n2 = n * n\n",
    "        n3 = n2 * n\n",
    "        n4 = n2 * n2\n",
    "        G = self.a * (1 - n) * (1 - n2) * (1 + (9 * n2 / 4) + (225 * n4 / 64)) * (math.pi / 180)\n",
    "        sigma = (Mprime * math.pi) / (180. * G)\n",
    "\n",
    "        latPrimeT1 = ((3 * n / 2) - (27 * n3 / 32)) * math.sin(2 * sigma)\n",
    "        latPrimeT2 = ((21 * n2 / 16) - (55 * n4 / 32)) * math.sin(4 * sigma)\n",
    "        latPrimeT3 = (151 * n3 / 96) * math.sin(6 * sigma)\n",
    "        latPrimeT4 = (1097 * n4 / 512) * math.sin(8 * sigma)\n",
    "        latPrime = sigma + latPrimeT1 + latPrimeT2 + latPrimeT3 + latPrimeT4\n",
    "\n",
    "        sinLatPrime = math.sin(latPrime)\n",
    "        sin2LatPrime = sinLatPrime * sinLatPrime\n",
    "\n",
    "        rhoPrime = self.calcRho(sin2LatPrime)\n",
    "        vPrime = self.calcV(sin2LatPrime)\n",
    "        psiPrime = vPrime / rhoPrime\n",
    "        psiPrime2 = psiPrime * psiPrime\n",
    "        psiPrime3 = psiPrime2 * psiPrime\n",
    "        psiPrime4 = psiPrime3 * psiPrime\n",
    "        tPrime = math.tan(latPrime)\n",
    "        tPrime2 = tPrime * tPrime\n",
    "        tPrime4 = tPrime2 * tPrime2\n",
    "        tPrime6 = tPrime4 * tPrime2\n",
    "        Eprime = E - self.oE\n",
    "        x = Eprime / (self.k * vPrime)\n",
    "        x2 = x * x\n",
    "        x3 = x2 * x\n",
    "        x5 = x3 * x2\n",
    "        x7 = x5 * x2\n",
    "\n",
    "        # Compute Latitude\n",
    "        latFactor = tPrime / (self.k * rhoPrime)\n",
    "        latTerm1 = latFactor * ((Eprime * x) / 2)\n",
    "        latTerm2 = latFactor * ((Eprime * x3) / 24) * (\n",
    "                (-4 * psiPrime2) + (9 * psiPrime) * (1 - tPrime2) + (12 * tPrime2))\n",
    "        latTerm3 = latFactor * ((Eprime * x5) / 720) * (\n",
    "                (8 * psiPrime4) * (11 - 24 * tPrime2) - (12 * psiPrime3) * (21 - 71 * tPrime2) + (\n",
    "                15 * psiPrime2) * (15 - 98 * tPrime2 + 15 * tPrime4) + (180 * psiPrime) * (\n",
    "                        5 * tPrime2 - 3 * tPrime4) + 360 * tPrime4)\n",
    "        latTerm4 = latFactor * ((Eprime * x7) / 40320) * (1385 - 3633 * tPrime2 + 4095 * tPrime4 + 1575 * tPrime6)\n",
    "        lat = latPrime - latTerm1 + latTerm2 - latTerm3 + latTerm4\n",
    "\n",
    "        # Compute Longitude\n",
    "        secLatPrime = 1. / math.cos(lat)\n",
    "        lonTerm1 = x * secLatPrime\n",
    "        lonTerm2 = ((x3 * secLatPrime) / 6) * (psiPrime + 2 * tPrime2)\n",
    "        lonTerm3 = ((x5 * secLatPrime) / 120) * ((-4 * psiPrime3) * (1 - 6 * tPrime2) + psiPrime2 * (\n",
    "                9 - 68 * tPrime2) + 72 * psiPrime * tPrime2 + 24 * tPrime4)\n",
    "        lonTerm4 = ((x7 * secLatPrime) / 5040) * (61 + 662 * tPrime2 + 1320 * tPrime4 + 720 * tPrime6)\n",
    "        lon = (self.oLon * math.pi / 180) + lonTerm1 - lonTerm2 + lonTerm3 - lonTerm4\n",
    "\n",
    "        return (lat / (math.pi / 180), lon / (math.pi / 180))\n",
    "\n",
    "\n",
    "def csvConverter():\n",
    "    \n",
    "    cv = SVY21()\n",
    "    with open(argv[2], \"a\") as output:\n",
    "        write = csv.writer(output)\n",
    "        \n",
    "        #Y IS LAT AND X IS LON\n",
    "        write.writerow([\"Y\", \"X\"])\n",
    "    output.close()\n",
    "\n",
    "    with open(argv[1], 'r') as csvfile:\n",
    "        input = csv.reader(csvfile)\n",
    "        next(input)\n",
    "        for row in input:\n",
    "            # print(row[0], row[1])\n",
    "            x = float(row[1])\n",
    "            y = float(row[0])\n",
    "            result = cv.computeLatLon(y, x)\n",
    "\n",
    "            with open(argv[2], \"a\") as output:\n",
    "                write = csv.writer(output)\n",
    "                write.writerow(result)\n",
    "\n",
    "            output.close()\n",
    "\n",
    "        print(\"Done! Check output.csv file in folder\")\n",
    "\n",
    "    csvfile.close()\n",
    "    "
   ]
  },
  {
   "cell_type": "markdown",
   "metadata": {},
   "source": [
    "# Step 2: Dataset 1: Extracting and Processing"
   ]
  },
  {
   "cell_type": "raw",
   "metadata": {},
   "source": [
    "The first dataset is Resale Flat Prices-Data which is extracted from:\n",
    "https://data.gov.sg/dataset/7a339d20-3c57-4b11-a695-9348adfd7614/download"
   ]
  },
  {
   "cell_type": "code",
   "execution_count": 2,
   "metadata": {},
   "outputs": [],
   "source": [
    "import pandas as pd\n",
    "import numpy as np\n",
    "import re\n",
    "import math \n",
    "\n",
    "price = pd.read_csv('data/resale-flat-prices-based-on-registration-date-from-jan-2017-onwards.csv')"
   ]
  },
  {
   "cell_type": "code",
   "execution_count": 3,
   "metadata": {},
   "outputs": [
    {
     "data": {
      "text/plain": [
       "<AxesSubplot:>"
      ]
     },
     "execution_count": 3,
     "metadata": {},
     "output_type": "execute_result"
    },
    {
     "data": {
      "image/png": "[encoded data removed]",
      "text/plain": [
       "<Figure size 432x288 with 1 Axes>"
      ]
     },
     "metadata": {
      "needs_background": "light"
     },
     "output_type": "display_data"
    }
   ],
   "source": [
    "# Plot the bar chart of flat type\n",
    "price.flat_type.value_counts().plot.bar()"
   ]
  },
  {
   "cell_type": "markdown",
   "metadata": {},
   "source": [
    "To simplify the problem, it will be best to consider 4-Room Flat since it has the highest count."
   ]
  },
  {
   "cell_type": "code",
   "execution_count": 4,
   "metadata": {},
   "outputs": [
    {
     "name": "stderr",
     "output_type": "stream",
     "text": [
      "<ipython-input-4-352bfb26f034>:6: SettingWithCopyWarning: \n",
      "A value is trying to be set on a copy of a slice from a DataFrame.\n",
      "Try using .loc[row_indexer,col_indexer] = value instead\n",
      "\n",
      "See the caveats in the documentation: https://pandas.pydata.org/pandas-docs/stable/user_guide/indexing.html#returning-a-view-versus-a-copy\n",
      "  df['addresses'] = \"Block \" + price.block + \" \" + price.street_name + \" \" + \"Singapore\"\n"
     ]
    }
   ],
   "source": [
    "# 4 Room flat is considered for the study\n",
    "\n",
    "df = price.loc[price['flat_type'] == \"4 ROOM\"]\n",
    "\n",
    "# Adding 'Block' is critical because some will not found in the cell\n",
    "df['addresses'] = \"Block \" + price.block + \" \" + price.street_name + \" \" + \"Singapore\""
   ]
  },
  {
   "cell_type": "code",
   "execution_count": 5,
   "metadata": {},
   "outputs": [
    {
     "data": {
      "text/html": [
       "<div>\n",
       "<style scoped>\n",
       "    .dataframe tbody tr th:only-of-type {\n",
       "        vertical-align: middle;\n",
       "    }\n",
       "\n",
       "    .dataframe tbody tr th {\n",
       "        vertical-align: top;\n",
       "    }\n",
       "\n",
       "    .dataframe thead th {\n",
       "        text-align: right;\n",
       "    }\n",
       "</style>\n",
       "<table border=\"1\" class=\"dataframe\">\n",
       "  <thead>\n",
       "    <tr style=\"text-align: right;\">\n",
       "      <th></th>\n",
       "      <th>floor_area_sqm</th>\n",
       "      <th>lease_commence_date</th>\n",
       "      <th>resale_price</th>\n",
       "    </tr>\n",
       "  </thead>\n",
       "  <tbody>\n",
       "    <tr>\n",
       "      <th>count</th>\n",
       "      <td>34288.000000</td>\n",
       "      <td>34288.000000</td>\n",
       "      <td>3.428800e+04</td>\n",
       "    </tr>\n",
       "    <tr>\n",
       "      <th>mean</th>\n",
       "      <td>95.385622</td>\n",
       "      <td>1997.686158</td>\n",
       "      <td>4.350983e+05</td>\n",
       "    </tr>\n",
       "    <tr>\n",
       "      <th>std</th>\n",
       "      <td>7.236761</td>\n",
       "      <td>12.228888</td>\n",
       "      <td>1.199370e+05</td>\n",
       "    </tr>\n",
       "    <tr>\n",
       "      <th>min</th>\n",
       "      <td>70.000000</td>\n",
       "      <td>1967.000000</td>\n",
       "      <td>2.180000e+05</td>\n",
       "    </tr>\n",
       "    <tr>\n",
       "      <th>25%</th>\n",
       "      <td>91.000000</td>\n",
       "      <td>1987.000000</td>\n",
       "      <td>3.550000e+05</td>\n",
       "    </tr>\n",
       "    <tr>\n",
       "      <th>50%</th>\n",
       "      <td>93.000000</td>\n",
       "      <td>1998.000000</td>\n",
       "      <td>4.050000e+05</td>\n",
       "    </tr>\n",
       "    <tr>\n",
       "      <th>75%</th>\n",
       "      <td>102.000000</td>\n",
       "      <td>2011.000000</td>\n",
       "      <td>4.700000e+05</td>\n",
       "    </tr>\n",
       "    <tr>\n",
       "      <th>max</th>\n",
       "      <td>138.000000</td>\n",
       "      <td>2019.000000</td>\n",
       "      <td>1.186888e+06</td>\n",
       "    </tr>\n",
       "  </tbody>\n",
       "</table>\n",
       "</div>"
      ],
      "text/plain": [
       "       floor_area_sqm  lease_commence_date  resale_price\n",
       "count    34288.000000         34288.000000  3.428800e+04\n",
       "mean        95.385622          1997.686158  4.350983e+05\n",
       "std          7.236761            12.228888  1.199370e+05\n",
       "min         70.000000          1967.000000  2.180000e+05\n",
       "25%         91.000000          1987.000000  3.550000e+05\n",
       "50%         93.000000          1998.000000  4.050000e+05\n",
       "75%        102.000000          2011.000000  4.700000e+05\n",
       "max        138.000000          2019.000000  1.186888e+06"
      ]
     },
     "execution_count": 5,
     "metadata": {},
     "output_type": "execute_result"
    }
   ],
   "source": [
    "#Reset the Index Number after the above filter\n",
    "df = df.reset_index(drop=True)\n",
    "\n",
    "#Statistic Summary\n",
    "df.describe()"
   ]
  },
  {
   "cell_type": "markdown",
   "metadata": {},
   "source": [
    "The max and min resale price of 4-room have high difference of about a million. It might be due to lease date and floor area. \n",
    "\n",
    "Newer unit is seen to be more expensive than older unit since all HDB is having 99-year of lease period. A new feature called leftover yeas will be created. \n",
    "\n",
    "Bigger area will also One way to improve the dataset is to create a new feature - price per sqm at the aim to remove outliers. "
   ]
  },
  {
   "cell_type": "code",
   "execution_count": 6,
   "metadata": {},
   "outputs": [
    {
     "data": {
      "text/plain": [
       "<AxesSubplot:>"
      ]
     },
     "execution_count": 6,
     "metadata": {},
     "output_type": "execute_result"
    },
    {
     "data": {
      "image/png": "[encoded data removed]",
      "text/plain": [
       "<Figure size 432x288 with 1 Axes>"
      ]
     },
     "metadata": {
      "needs_background": "light"
     },
     "output_type": "display_data"
    }
   ],
   "source": [
    "# 2 New Features\n",
    "\n",
    "df['leftover_year'] = 99- (2020 - price.lease_commence_date.astype(int))\n",
    "\n",
    "df['price_per_sqm'] = round(price.resale_price/price.floor_area_sqm,0)\n",
    "\n",
    "df.describe()\n",
    "\n",
    "df.boxplot(column=['price_per_sqm'] )"
   ]
  },
  {
   "cell_type": "markdown",
   "metadata": {},
   "source": [
    "The outliers are found outside of the upper whisker which led to skew more to right in density plot that found below.  "
   ]
  },
  {
   "cell_type": "code",
   "execution_count": 7,
   "metadata": {},
   "outputs": [
    {
     "data": {
      "text/plain": [
       "<AxesSubplot:ylabel='Density'>"
      ]
     },
     "execution_count": 7,
     "metadata": {},
     "output_type": "execute_result"
    },
    {
     "data": {
      "image/png": "[encoded data removed]",
      "text/plain": [
       "<Figure size 432x288 with 1 Axes>"
      ]
     },
     "metadata": {
      "needs_background": "light"
     },
     "output_type": "display_data"
    }
   ],
   "source": [
    "df.price_per_sqm.plot.density()"
   ]
  },
  {
   "cell_type": "markdown",
   "metadata": {},
   "source": [
    "To increase significant association, it will be a good move to remove the outlier. The next step of data processing is to decide on significance level. Typically is either 95% or 90%.  "
   ]
  },
  {
   "cell_type": "code",
   "execution_count": 8,
   "metadata": {},
   "outputs": [
    {
     "name": "stdout",
     "output_type": "stream",
     "text": [
      "count    32571.000000\n",
      "mean      4378.189985\n",
      "std        875.465425\n",
      "min       2439.000000\n",
      "25%       3750.000000\n",
      "50%       4214.000000\n",
      "75%       4797.000000\n",
      "max       7304.000000\n",
      "Name: price_per_sqm, dtype: float64\n",
      "median 4214.0\n"
     ]
    },
    {
     "data": {
      "text/plain": [
       "<AxesSubplot:>"
      ]
     },
     "execution_count": 8,
     "metadata": {},
     "output_type": "execute_result"
    },
    {
     "data": {
      "image/png": "[encoded data removed]",
      "text/plain": [
       "<Figure size 432x288 with 1 Axes>"
      ]
     },
     "metadata": {
      "needs_background": "light"
     },
     "output_type": "display_data"
    }
   ],
   "source": [
    "# significance level of 95% \n",
    "\n",
    "q5 = 5 \n",
    "\n",
    "q5_hi = df[\"price_per_sqm\"].quantile(1 - (q5/100))\n",
    "\n",
    "q5 = df[(df[\"price_per_sqm\"] < q5_hi)]\n",
    "print(q5[\"price_per_sqm\"].describe())\n",
    "print('median ' + str(q5[\"price_per_sqm\"].median()))\n",
    "\n",
    "q5.boxplot(column=['price_per_sqm'] )\n"
   ]
  },
  {
   "cell_type": "markdown",
   "metadata": {},
   "source": [
    "Outliers are still observed outside of the upper whisker. "
   ]
  },
  {
   "cell_type": "code",
   "execution_count": 9,
   "metadata": {},
   "outputs": [
    {
     "name": "stdout",
     "output_type": "stream",
     "text": [
      "count    30858.000000\n",
      "mean      4251.169940\n",
      "std        704.009148\n",
      "min       2439.000000\n",
      "25%       3727.000000\n",
      "50%       4164.000000\n",
      "75%       4679.750000\n",
      "max       6134.000000\n",
      "Name: price_per_sqm, dtype: float64\n",
      "median 4164.0\n"
     ]
    },
    {
     "data": {
      "text/plain": [
       "<AxesSubplot:>"
      ]
     },
     "execution_count": 9,
     "metadata": {},
     "output_type": "execute_result"
    },
    {
     "data": {
      "image/png": "[encoded data removed]",
      "text/plain": [
       "<Figure size 432x288 with 1 Axes>"
      ]
     },
     "metadata": {
      "needs_background": "light"
     },
     "output_type": "display_data"
    }
   ],
   "source": [
    "# significance level of 90% \n",
    "\n",
    "q10 = 10 \n",
    "q10_hi = df[\"price_per_sqm\"].quantile(1 - (q10/100))\n",
    "\n",
    "q10 = df[(df[\"price_per_sqm\"] < q10_hi)]\n",
    "print(q10[\"price_per_sqm\"].describe())\n",
    "print('median ' + str(q10[\"price_per_sqm\"].median()))\n",
    "\n",
    "q10.boxplot(column=['price_per_sqm'] )"
   ]
  },
  {
   "cell_type": "markdown",
   "metadata": {},
   "source": [
    "At 90% significance level, it has removed most of the ouliers in dataset 1. The values for mean and medium are nearer to each other.  "
   ]
  },
  {
   "cell_type": "code",
   "execution_count": 10,
   "metadata": {
    "scrolled": true
   },
   "outputs": [],
   "source": [
    "# Renumber the index again\n",
    "df = q10.reset_index(drop=True)\n",
    "\n",
    "# # Also transform the floor area into natural logarithm\n",
    "df[\"Ln_resale_price\"] = np.log(df['resale_price'])\n",
    "\n",
    "# Drop the unneccesary features\n",
    "df =df.drop(['resale_price','town','block','flat_type','flat_model','street_name'\n",
    "         ,'month','lease_commence_date','remaining_lease','price_per_sqm' ],axis = 1)"
   ]
  },
  {
   "cell_type": "markdown",
   "metadata": {},
   "source": [
    "Total number of json files: 30858"
   ]
  },
  {
   "cell_type": "code",
   "execution_count": 11,
   "metadata": {},
   "outputs": [],
   "source": [
    "index_count = 30858"
   ]
  },
  {
   "cell_type": "markdown",
   "metadata": {},
   "source": [
    "Extract each address from Googlemaps to save in the format of json. \n",
    "This is to extract 2 more feature latitude and longitude from json into the dataframe - dataset 1. "
   ]
  },
  {
   "cell_type": "raw",
   "metadata": {},
   "source": [
    "# Skip it unless you have the API password; json files have provided in the email\n",
    "# Might need to run a few times if you encountered unstable network\n",
    "# Cautious: 2 hrs to run for 30k over query\n",
    "\n",
    "import googlemaps\n",
    "import json\n",
    "\n",
    "gmaps = googlemaps.Client(key = '')\n",
    "\n",
    "count = 0\n",
    "\n",
    "for address in df.addresses[count:]:\n",
    "    with open('data/addresses/index_' + str(count) + '.txt', 'w') as json_file:\n",
    "            geocode_result = gmaps.geocode(str(address))\n",
    "            json.dump(geocode_result[0] , json_file)\n",
    "            count += 1\n",
    "\n",
    "print('Total number of json files: ' + str(count))\n",
    "\n"
   ]
  },
  {
   "cell_type": "code",
   "execution_count": 12,
   "metadata": {},
   "outputs": [],
   "source": [
    "#cautious: Takes 10min to run\n",
    "import json\n",
    "from shapely.geometry import Point, Polygon\n",
    "\n",
    "for count in range(0,index_count):     \n",
    "    \n",
    "    # Extract from json file\n",
    "    with open('data/addresses/index_' + str(count) + '.txt') as f:\n",
    "        json_file = json.load(f)\n",
    "        lng = json_file['geometry']['location']['lng']\n",
    "        lat = json_file['geometry']['location']['lat']\n",
    "        \n",
    "        # convert from WSG84 to SVY21\n",
    "        cv = SVY21()\n",
    "        (N, E) = cv.computeSVY21(lat, lng)\n",
    "        # Create Point objects\n",
    "        geometry = Point(E, N)\n",
    "        \n",
    "        #Updated to dataframe: Dataset 1\n",
    "        df.at[count,'lng'] = lng\n",
    "        df.at[count,'lat'] = lat\n",
    "        df.at[count,'geometry'] = str(geometry)"
   ]
  },
  {
   "cell_type": "code",
   "execution_count": 13,
   "metadata": {},
   "outputs": [
    {
     "data": {
      "text/plain": [
       "storey_range        object\n",
       "floor_area_sqm     float64\n",
       "addresses           object\n",
       "leftover_year        int32\n",
       "Ln_resale_price    float64\n",
       "lng                float64\n",
       "lat                float64\n",
       "geometry            object\n",
       "dtype: object"
      ]
     },
     "execution_count": 13,
     "metadata": {},
     "output_type": "execute_result"
    }
   ],
   "source": [
    "df.dtypes"
   ]
  },
  {
   "cell_type": "markdown",
   "metadata": {},
   "source": [
    "Data Binning for: \n",
    "\n",
    "1. floor level\n",
    "2. flat size\n",
    "3. leasing year"
   ]
  },
  {
   "cell_type": "markdown",
   "metadata": {},
   "source": [
    "1. floor level"
   ]
  },
  {
   "cell_type": "markdown",
   "metadata": {},
   "source": [
    "df.storey_range to consider as the following:  \n",
    "\n",
    "1. level 1 to 6 are low floor\n",
    "2. level 7 to 9 are mid floor\n",
    "3. level 10 to 21 are high floor\n",
    "4. level 21 > are very high floor \n"
   ]
  },
  {
   "cell_type": "code",
   "execution_count": 14,
   "metadata": {},
   "outputs": [
    {
     "data": {
      "text/plain": [
       "04 TO 06    7035\n",
       "07 TO 09    6500\n",
       "10 TO 12    5785\n",
       "01 TO 03    5338\n",
       "13 TO 15    3051\n",
       "16 TO 18    1420\n",
       "19 TO 21     553\n",
       "22 TO 24     432\n",
       "25 TO 27     257\n",
       "28 TO 30     180\n",
       "34 TO 36      85\n",
       "31 TO 33      81\n",
       "37 TO 39      81\n",
       "40 TO 42      39\n",
       "46 TO 48      11\n",
       "43 TO 45       6\n",
       "49 TO 51       4\n",
       "Name: storey_range, dtype: int64"
      ]
     },
     "execution_count": 14,
     "metadata": {},
     "output_type": "execute_result"
    }
   ],
   "source": [
    "df[\"storey_range\"].value_counts().sort_values(ascending=False)"
   ]
  },
  {
   "cell_type": "code",
   "execution_count": 15,
   "metadata": {},
   "outputs": [],
   "source": [
    "# Create new column\n",
    "df['floor_level'] = df['storey_range']\n",
    "\n",
    "# Replace the string to low mid, high and vhigh\n",
    "low = ['01 TO 03', '04 TO 06']\n",
    "mid = ['07 TO 09']\n",
    "high = ['10 TO 12','13 TO 15','16 TO 18','19 TO 21'], \n",
    "vhigh=['22 TO 24', '25 TO 27', '28 TO 30', '34 TO 36', '31 TO 33',\n",
    "       '37 TO 39', '40 TO 42', '46 TO 48', '43 TO 45', '49 TO 51']\n",
    "\n",
    "floor_range = low, mid, high, vhigh\n",
    "floor_label = ['low', 'mid', 'high', 'vhigh']\n",
    "\n",
    "for count in range(0,len(floor_range)):\n",
    "    df['floor_level'] = df['floor_level'].replace(floor_range[count],floor_label[count])"
   ]
  },
  {
   "cell_type": "markdown",
   "metadata": {},
   "source": [
    "2. flat size"
   ]
  },
  {
   "cell_type": "code",
   "execution_count": 16,
   "metadata": {},
   "outputs": [
    {
     "name": "stdout",
     "output_type": "stream",
     "text": [
      "(69.999, 91.0]    8798\n",
      "(91.0, 93.0]      8054\n",
      "(93.0, 103.0]     7965\n",
      "(103.0, 135.0]    6041\n",
      "Name: flat_size, dtype: int64\n",
      "\n",
      "\n",
      "0        medium\n",
      "1         small\n",
      "2           big\n",
      "3        medium\n",
      "4           big\n",
      "          ...  \n",
      "30853     small\n",
      "30854      vbig\n",
      "30855       big\n",
      "30856     small\n",
      "30857     small\n",
      "Name: flat_size, Length: 30858, dtype: category\n",
      "Categories (4, object): ['small' < 'medium' < 'big' < 'vbig']\n"
     ]
    }
   ],
   "source": [
    "# Qcut to create (near to) equal number of count in each bin \n",
    "df['flat_size'] = pd.qcut(df[\"floor_area_sqm\"], q=4)\n",
    "print(df['flat_size'].value_counts())\n",
    "print(\"\\n\")\n",
    "\n",
    "# Label the [(69.999, 91.0]<(91.0, 93.0]<(93.0, 103.0]<(103.0, 135.0] into ['small', 'medium', 'big', 'vbig']\n",
    "df['flat_size'] = pd.qcut(df[\"floor_area_sqm\"], q=4, labels= ['small', 'medium', 'big', 'vbig'])\n",
    "print(df['flat_size'])\n",
    "\n",
    "# Also transform the floor area into natural logarithm\n",
    "import numpy as np\n",
    "df[\"Ln_flat_size\"] = np.log(df['floor_area_sqm'])"
   ]
  },
  {
   "cell_type": "markdown",
   "metadata": {},
   "source": [
    "3. Leasing Year"
   ]
  },
  {
   "cell_type": "code",
   "execution_count": 17,
   "metadata": {},
   "outputs": [
    {
     "name": "stdout",
     "output_type": "stream",
     "text": [
      "(57.25, 69.5]      11387\n",
      "(69.5, 81.75]       9836\n",
      "(81.75, 94.0]       5828\n",
      "(44.951, 57.25]     3807\n",
      "Name: leasing_year, dtype: int64\n",
      "\n",
      "\n"
     ]
    }
   ],
   "source": [
    "# Use cut to evenly spaced out the bin into [(44.951, 57.25] < (57.25, 69.5] < (69.5, 81.75] < (81.75, 94.0]]\n",
    "df['leasing_year'] = pd.cut(df[\"leftover_year\"], bins=4)\n",
    "print(df['leasing_year'].value_counts())\n",
    "print(\"\\n\")\n",
    "\n",
    "df['leasing_year'] = pd.cut(df[\"leftover_year\"], bins=4, labels = ['short', 'moderate', 'long', 'vlong'])\n",
    "df['leasing_year'].sort_index()\n",
    "\n",
    "# Also transform the lefover_year into natural logarithm\n",
    "import numpy as np\n",
    "df[\"Ln_leasing_year\"] = np.log(df['leftover_year'])"
   ]
  },
  {
   "cell_type": "code",
   "execution_count": 18,
   "metadata": {},
   "outputs": [],
   "source": [
    "# Drop the unneccseary features\n",
    "df =df.drop(['storey_range','floor_area_sqm','leftover_year','addresses', 'lat', 'lng' ],axis = 1)"
   ]
  },
  {
   "cell_type": "markdown",
   "metadata": {},
   "source": [
    "To change Dataset 1  from df to gdf where gdf is the format of GeoDataframe. "
   ]
  },
  {
   "cell_type": "code",
   "execution_count": 19,
   "metadata": {},
   "outputs": [],
   "source": [
    "from shapely import wkt\n",
    "import geopandas as gpd\n",
    "\n",
    "\n",
    "for i in range(0,1):\n",
    "    try: \n",
    "        df.geometry= df.geometry.apply(wkt.loads)  \n",
    "    except:\n",
    "        break\n",
    "\n",
    "gdf = gpd.GeoDataFrame(df, geometry='geometry')"
   ]
  },
  {
   "cell_type": "markdown",
   "metadata": {},
   "source": [
    "To check if geometry has successfully converted  for data type from object to geometry."
   ]
  },
  {
   "cell_type": "code",
   "execution_count": 20,
   "metadata": {},
   "outputs": [
    {
     "data": {
      "text/plain": [
       "Ln_resale_price     float64\n",
       "geometry           geometry\n",
       "floor_level          object\n",
       "flat_size          category\n",
       "Ln_flat_size        float64\n",
       "leasing_year       category\n",
       "Ln_leasing_year     float64\n",
       "dtype: object"
      ]
     },
     "execution_count": 20,
     "metadata": {},
     "output_type": "execute_result"
    }
   ],
   "source": [
    "gdf.dtypes"
   ]
  },
  {
   "cell_type": "code",
   "execution_count": 21,
   "metadata": {},
   "outputs": [
    {
     "data": {
      "text/html": [
       "<div>\n",
       "<style scoped>\n",
       "    .dataframe tbody tr th:only-of-type {\n",
       "        vertical-align: middle;\n",
       "    }\n",
       "\n",
       "    .dataframe tbody tr th {\n",
       "        vertical-align: top;\n",
       "    }\n",
       "\n",
       "    .dataframe thead th {\n",
       "        text-align: right;\n",
       "    }\n",
       "</style>\n",
       "<table border=\"1\" class=\"dataframe\">\n",
       "  <thead>\n",
       "    <tr style=\"text-align: right;\">\n",
       "      <th></th>\n",
       "      <th>Ln_resale_price</th>\n",
       "      <th>geometry</th>\n",
       "      <th>floor_level</th>\n",
       "      <th>flat_size</th>\n",
       "      <th>Ln_flat_size</th>\n",
       "      <th>leasing_year</th>\n",
       "      <th>Ln_leasing_year</th>\n",
       "    </tr>\n",
       "  </thead>\n",
       "  <tbody>\n",
       "    <tr>\n",
       "      <th>0</th>\n",
       "      <td>12.899220</td>\n",
       "      <td>POINT (30756.192 38359.100)</td>\n",
       "      <td>high</td>\n",
       "      <td>medium</td>\n",
       "      <td>4.521789</td>\n",
       "      <td>moderate</td>\n",
       "      <td>4.060443</td>\n",
       "    </tr>\n",
       "    <tr>\n",
       "      <th>1</th>\n",
       "      <td>12.899220</td>\n",
       "      <td>POINT (30592.365 38305.381)</td>\n",
       "      <td>mid</td>\n",
       "      <td>small</td>\n",
       "      <td>4.510860</td>\n",
       "      <td>short</td>\n",
       "      <td>4.043051</td>\n",
       "    </tr>\n",
       "    <tr>\n",
       "      <th>2</th>\n",
       "      <td>12.906692</td>\n",
       "      <td>POINT (28790.358 40233.918)</td>\n",
       "      <td>low</td>\n",
       "      <td>big</td>\n",
       "      <td>4.543295</td>\n",
       "      <td>moderate</td>\n",
       "      <td>4.077537</td>\n",
       "    </tr>\n",
       "    <tr>\n",
       "      <th>3</th>\n",
       "      <td>12.923912</td>\n",
       "      <td>POINT (30611.896 39498.042)</td>\n",
       "      <td>low</td>\n",
       "      <td>medium</td>\n",
       "      <td>4.521789</td>\n",
       "      <td>moderate</td>\n",
       "      <td>4.077537</td>\n",
       "    </tr>\n",
       "    <tr>\n",
       "      <th>4</th>\n",
       "      <td>12.961932</td>\n",
       "      <td>POINT (28941.568 39228.328)</td>\n",
       "      <td>low</td>\n",
       "      <td>big</td>\n",
       "      <td>4.584967</td>\n",
       "      <td>moderate</td>\n",
       "      <td>4.077537</td>\n",
       "    </tr>\n",
       "  </tbody>\n",
       "</table>\n",
       "</div>"
      ],
      "text/plain": [
       "   Ln_resale_price                     geometry floor_level flat_size  \\\n",
       "0        12.899220  POINT (30756.192 38359.100)        high    medium   \n",
       "1        12.899220  POINT (30592.365 38305.381)         mid     small   \n",
       "2        12.906692  POINT (28790.358 40233.918)         low       big   \n",
       "3        12.923912  POINT (30611.896 39498.042)         low    medium   \n",
       "4        12.961932  POINT (28941.568 39228.328)         low       big   \n",
       "\n",
       "   Ln_flat_size leasing_year  Ln_leasing_year  \n",
       "0      4.521789     moderate         4.060443  \n",
       "1      4.510860        short         4.043051  \n",
       "2      4.543295     moderate         4.077537  \n",
       "3      4.521789     moderate         4.077537  \n",
       "4      4.584967     moderate         4.077537  "
      ]
     },
     "execution_count": 21,
     "metadata": {},
     "output_type": "execute_result"
    }
   ],
   "source": [
    "gdf.head()"
   ]
  },
  {
   "cell_type": "markdown",
   "metadata": {},
   "source": [
    "# Step 3: New Features - Distance from CBD and Walking Distance from MRT"
   ]
  },
  {
   "cell_type": "markdown",
   "metadata": {},
   "source": [
    "2 sets of Datasets will be in shapefile format and extracted from \n",
    "https://data.gov.sg/dataset/master-plan-2014-planning-area-boundary-no-sea\n",
    "https://www.mytransport.sg/content/mytransport/home/dataMall/static-data.html\n",
    "\n",
    "The dataset will be represented as b_map (boundary map) and ."
   ]
  },
  {
   "cell_type": "code",
   "execution_count": 22,
   "metadata": {},
   "outputs": [],
   "source": [
    "# Convert data type from geometery to float to include annotate in the plot  \n",
    "import re\n",
    "\n",
    "def geotofloat(a):\n",
    "    z= a.centroid.astype(str)\n",
    "    x = re.split(\" \",z[0])[1][1:]\n",
    "    y = re.split(\" \",z[0])[2][:-1]\n",
    "    return [float(x),float(y)]"
   ]
  },
  {
   "cell_type": "code",
   "execution_count": 23,
   "metadata": {},
   "outputs": [],
   "source": [
    "import geopandas as gpd\n",
    "\n",
    "shapefile_MRT = \"data/MRTLRTStnPtt.shp\"\n",
    "b_map_MRT = gpd.read_file(shapefile_MRT)\n",
    "\n",
    "shapefile_singapore = \"data/MP14_PLNG_AREA_NO_SEA_PL.shp\"\n",
    "b_map_singapore = gpd.read_file(shapefile_singapore)"
   ]
  },
  {
   "cell_type": "code",
   "execution_count": 24,
   "metadata": {},
   "outputs": [
    {
     "data": {
      "text/plain": [
       "Text(0.5, 1.0, 'Singapore Map with MRT')"
      ]
     },
     "execution_count": 24,
     "metadata": {},
     "output_type": "execute_result"
    },
    {
     "data": {
      "image/png": "[encoded data removed]",
      "text/plain": [
       "<Figure size 1440x1440 with 1 Axes>"
      ]
     },
     "metadata": {
      "needs_background": "light"
     },
     "output_type": "display_data"
    }
   ],
   "source": [
    "#plot Singapore map with MRT\n",
    "import matplotlib.pyplot as plt\n",
    "ax = b_map_singapore.plot(color='lightskyblue',edgecolor = 'black', figsize = (20,20))\n",
    "b_map_MRT.plot(ax = ax, color = 'white', edgecolor = 'black').set_title('Singapore Map with MRT')"
   ]
  },
  {
   "cell_type": "code",
   "execution_count": 25,
   "metadata": {},
   "outputs": [],
   "source": [
    "# Refer to Question 1 on how to pick for CBD\n",
    "\n",
    "from shapely.ops import cascaded_union\n",
    "import matplotlib.pyplot as plt\n",
    "import re\n",
    "\n",
    "CBD_Districts = ['MUSEUM','NEWTON','SINGAPORE RIVER','ORCHARD','RIVER VALLEY']\n",
    "boundary = b_map_singapore.query('PLN_AREA_N in @CBD_Districts')\n",
    "\n",
    "# Union polygons together \n",
    "polygons = [poly for poly in boundary.geometry]\n",
    "CBD_map = gpd.GeoSeries(cascaded_union(polygons))\n",
    "\n",
    "#Defining 5, 10, 15km radius at the center of CBD\n",
    "radius_5km = CBD_map.centroid.buffer(5000)\n",
    "radius_10km = CBD_map.centroid.buffer(10000)\n",
    "radius_15km = CBD_map.centroid.buffer(15000)\n",
    "radius_20km = CBD_map.centroid.buffer(20000)"
   ]
  },
  {
   "cell_type": "code",
   "execution_count": 26,
   "metadata": {},
   "outputs": [],
   "source": [
    "from shapely.geometry import Point, Polygon\n",
    "\n",
    "for i in range(0,len(gdf)):\n",
    "    gdf.at[i,'CBD_radius_5km'] = gdf.geometry[i].within(radius_5km[0])\n",
    "    gdf.at[i,'CBD_radius_10km'] = gdf.geometry[i].within(radius_10km[0])\n",
    "    gdf.at[i,'CBD_radius_15km'] = gdf.geometry[i].within(radius_15km[0])\n",
    "    gdf.at[i,'CBD_radius_20km']= gdf.geometry[i].within(radius_20km[0])\n",
    "     "
   ]
  },
  {
   "cell_type": "code",
   "execution_count": 27,
   "metadata": {},
   "outputs": [
    {
     "data": {
      "text/plain": [
       "<AxesSubplot:title={'center':'CBD Distance'}>"
      ]
     },
     "execution_count": 27,
     "metadata": {},
     "output_type": "execute_result"
    },
    {
     "data": {
      "image/png": "[encoded data removed]",
      "text/plain": [
       "<Figure size 432x288 with 1 Axes>"
      ]
     },
     "metadata": {
      "needs_background": "light"
     },
     "output_type": "display_data"
    }
   ],
   "source": [
    "Radius_False = [dict(gdf.CBD_radius_5km.value_counts())[False], dict(gdf.CBD_radius_10km.value_counts())[False],\n",
    "               dict(gdf.CBD_radius_15km.value_counts())[False],0]\n",
    "Radius_True = [dict(gdf.CBD_radius_5km.value_counts())[True], dict(gdf.CBD_radius_10km.value_counts())[True],\n",
    "               dict(gdf.CBD_radius_15km.value_counts())[True],dict(gdf.CBD_radius_20km.value_counts())[True]]\n",
    "\n",
    "Radius_index = ['radius_5km', 'radius_10km', 'radius_15km', 'radius_20km']\n",
    "\n",
    "pd.DataFrame({'True': Radius_True, 'False': Radius_False}, index=Radius_index).plot.bar(title='CBD Distance')"
   ]
  },
  {
   "cell_type": "markdown",
   "metadata": {},
   "source": [
    "All the addresses are fall within 20km from CBD"
   ]
  },
  {
   "cell_type": "code",
   "execution_count": 28,
   "metadata": {},
   "outputs": [],
   "source": [
    "# Convert data type from geometery to float to include annotate in the plot  \n",
    "def geotofloat(a):\n",
    "    z = str(a)\n",
    "    x = re.split(\" \",z)[1][1:]\n",
    "    y = re.split(\" \",z)[2][:-1]\n",
    "    return [float(x),float(y)]\n",
    "\n",
    "# Find Euclidean distance; Also transform into natural logarithm\n",
    "for i in range(0,len(gdf)):\n",
    "    gdf.at[i,\"Ln_distance_from_CBD\"] =  math.log(math.dist(geotofloat(CBD_map.centroid[0]), geotofloat(gdf.geometry[i]))) "
   ]
  },
  {
   "cell_type": "code",
   "execution_count": 47,
   "metadata": {},
   "outputs": [],
   "source": [
    "from shapely.geometry import Point, Polygon\n",
    "\n",
    "for i in range(0, len(gdf)):\n",
    "    distance = 50000 # initilise an impossible MRT distance of 50km \n",
    "    for j in range(0,len(b_map_MRT)):\n",
    "        radius_500m = b_map_MRT.geometry[j].centroid.buffer(500)\n",
    "        radius_1000m = b_map_MRT.geometry[j].centroid.buffer(1000)\n",
    "        if gdf.geometry[i].within(radius_1000m) is True:\n",
    "            gdf.at[i,'MRT_radius_1000m']= 'True' \n",
    "        if gdf.geometry[i].within(radius_500m) is True:\n",
    "            gdf.at[i,'MRT_radius_500m']= 'True'\n",
    "        \n",
    "        distance1 = math.dist(geotofloat(b_map_MRT.geometry[j]), geotofloat(gdf.geometry[i]))\n",
    "        if distance1 < distance:\n",
    "            distance = distance1\n",
    "        gdf.at[i,'Ln_distance_from_nearest_MRT'] = distance\n",
    "                \n",
    "\n",
    "gdf['MRT_radius_500m'] = gdf['MRT_radius_500m'].fillna('False')\n",
    "gdf['MRT_radius_1000m'] = gdf['MRT_radius_1000m'].fillna('False')\n",
    "gdf['Ln_distance_from_nearest_MRT'] = np.log(df['Ln_distance_from_nearest_MRT'])"
   ]
  },
  {
   "cell_type": "code",
   "execution_count": 48,
   "metadata": {},
   "outputs": [],
   "source": [
    "#Convert to one-hot encoder \n",
    "gdf_onehot = pd.get_dummies(gdf, columns=['flat_size','floor_level','leasing_year','CBD_radius_5km','CBD_radius_10km',\n",
    "                            'CBD_radius_15km', 'CBD_radius_20km','MRT_radius_500m','MRT_radius_1000m'])"
   ]
  },
  {
   "cell_type": "code",
   "execution_count": 49,
   "metadata": {},
   "outputs": [
    {
     "data": {
      "text/html": [
       "<div>\n",
       "<style scoped>\n",
       "    .dataframe tbody tr th:only-of-type {\n",
       "        vertical-align: middle;\n",
       "    }\n",
       "\n",
       "    .dataframe tbody tr th {\n",
       "        vertical-align: top;\n",
       "    }\n",
       "\n",
       "    .dataframe thead th {\n",
       "        text-align: right;\n",
       "    }\n",
       "</style>\n",
       "<table border=\"1\" class=\"dataframe\">\n",
       "  <thead>\n",
       "    <tr style=\"text-align: right;\">\n",
       "      <th></th>\n",
       "      <th>Ln_resale_price</th>\n",
       "      <th>Ln_flat_size</th>\n",
       "      <th>Ln_leasing_year</th>\n",
       "      <th>Ln_distance_from_CBD</th>\n",
       "      <th>Ln_distance_from_nearest_MRT</th>\n",
       "      <th>flat_size_small</th>\n",
       "      <th>flat_size_medium</th>\n",
       "      <th>flat_size_big</th>\n",
       "      <th>flat_size_vbig</th>\n",
       "      <th>floor_level_high</th>\n",
       "      <th>...</th>\n",
       "      <th>CBD_radius_5km_True</th>\n",
       "      <th>CBD_radius_10km_False</th>\n",
       "      <th>CBD_radius_10km_True</th>\n",
       "      <th>CBD_radius_15km_False</th>\n",
       "      <th>CBD_radius_15km_True</th>\n",
       "      <th>CBD_radius_20km_True</th>\n",
       "      <th>MRT_radius_500m_False</th>\n",
       "      <th>MRT_radius_500m_True</th>\n",
       "      <th>MRT_radius_1000m_False</th>\n",
       "      <th>MRT_radius_1000m_True</th>\n",
       "    </tr>\n",
       "  </thead>\n",
       "  <tbody>\n",
       "    <tr>\n",
       "      <th>0</th>\n",
       "      <td>12.899220</td>\n",
       "      <td>4.521789</td>\n",
       "      <td>4.060443</td>\n",
       "      <td>8.886820</td>\n",
       "      <td>7.034301</td>\n",
       "      <td>0</td>\n",
       "      <td>1</td>\n",
       "      <td>0</td>\n",
       "      <td>0</td>\n",
       "      <td>1</td>\n",
       "      <td>...</td>\n",
       "      <td>0</td>\n",
       "      <td>0</td>\n",
       "      <td>1</td>\n",
       "      <td>0</td>\n",
       "      <td>1</td>\n",
       "      <td>1</td>\n",
       "      <td>1</td>\n",
       "      <td>0</td>\n",
       "      <td>1</td>\n",
       "      <td>0</td>\n",
       "    </tr>\n",
       "    <tr>\n",
       "      <th>1</th>\n",
       "      <td>12.899220</td>\n",
       "      <td>4.510860</td>\n",
       "      <td>4.043051</td>\n",
       "      <td>8.872871</td>\n",
       "      <td>6.952555</td>\n",
       "      <td>1</td>\n",
       "      <td>0</td>\n",
       "      <td>0</td>\n",
       "      <td>0</td>\n",
       "      <td>0</td>\n",
       "      <td>...</td>\n",
       "      <td>0</td>\n",
       "      <td>0</td>\n",
       "      <td>1</td>\n",
       "      <td>0</td>\n",
       "      <td>1</td>\n",
       "      <td>1</td>\n",
       "      <td>1</td>\n",
       "      <td>0</td>\n",
       "      <td>1</td>\n",
       "      <td>0</td>\n",
       "    </tr>\n",
       "    <tr>\n",
       "      <th>2</th>\n",
       "      <td>12.906692</td>\n",
       "      <td>4.543295</td>\n",
       "      <td>4.077537</td>\n",
       "      <td>9.078249</td>\n",
       "      <td>6.281671</td>\n",
       "      <td>0</td>\n",
       "      <td>0</td>\n",
       "      <td>1</td>\n",
       "      <td>0</td>\n",
       "      <td>0</td>\n",
       "      <td>...</td>\n",
       "      <td>0</td>\n",
       "      <td>0</td>\n",
       "      <td>1</td>\n",
       "      <td>0</td>\n",
       "      <td>1</td>\n",
       "      <td>1</td>\n",
       "      <td>1</td>\n",
       "      <td>0</td>\n",
       "      <td>0</td>\n",
       "      <td>1</td>\n",
       "    </tr>\n",
       "    <tr>\n",
       "      <th>3</th>\n",
       "      <td>12.923912</td>\n",
       "      <td>4.521789</td>\n",
       "      <td>4.077537</td>\n",
       "      <td>9.022734</td>\n",
       "      <td>6.790484</td>\n",
       "      <td>0</td>\n",
       "      <td>1</td>\n",
       "      <td>0</td>\n",
       "      <td>0</td>\n",
       "      <td>0</td>\n",
       "      <td>...</td>\n",
       "      <td>0</td>\n",
       "      <td>0</td>\n",
       "      <td>1</td>\n",
       "      <td>0</td>\n",
       "      <td>1</td>\n",
       "      <td>1</td>\n",
       "      <td>1</td>\n",
       "      <td>0</td>\n",
       "      <td>0</td>\n",
       "      <td>1</td>\n",
       "    </tr>\n",
       "    <tr>\n",
       "      <th>4</th>\n",
       "      <td>12.961932</td>\n",
       "      <td>4.584967</td>\n",
       "      <td>4.077537</td>\n",
       "      <td>8.957272</td>\n",
       "      <td>6.773457</td>\n",
       "      <td>0</td>\n",
       "      <td>0</td>\n",
       "      <td>1</td>\n",
       "      <td>0</td>\n",
       "      <td>0</td>\n",
       "      <td>...</td>\n",
       "      <td>0</td>\n",
       "      <td>0</td>\n",
       "      <td>1</td>\n",
       "      <td>0</td>\n",
       "      <td>1</td>\n",
       "      <td>1</td>\n",
       "      <td>1</td>\n",
       "      <td>0</td>\n",
       "      <td>0</td>\n",
       "      <td>1</td>\n",
       "    </tr>\n",
       "  </tbody>\n",
       "</table>\n",
       "<p>5 rows × 28 columns</p>\n",
       "</div>"
      ],
      "text/plain": [
       "   Ln_resale_price  Ln_flat_size  Ln_leasing_year  Ln_distance_from_CBD  \\\n",
       "0        12.899220      4.521789         4.060443              8.886820   \n",
       "1        12.899220      4.510860         4.043051              8.872871   \n",
       "2        12.906692      4.543295         4.077537              9.078249   \n",
       "3        12.923912      4.521789         4.077537              9.022734   \n",
       "4        12.961932      4.584967         4.077537              8.957272   \n",
       "\n",
       "   Ln_distance_from_nearest_MRT  flat_size_small  flat_size_medium  \\\n",
       "0                      7.034301                0                 1   \n",
       "1                      6.952555                1                 0   \n",
       "2                      6.281671                0                 0   \n",
       "3                      6.790484                0                 1   \n",
       "4                      6.773457                0                 0   \n",
       "\n",
       "   flat_size_big  flat_size_vbig  floor_level_high  ...  CBD_radius_5km_True  \\\n",
       "0              0               0                 1  ...                    0   \n",
       "1              0               0                 0  ...                    0   \n",
       "2              1               0                 0  ...                    0   \n",
       "3              0               0                 0  ...                    0   \n",
       "4              1               0                 0  ...                    0   \n",
       "\n",
       "   CBD_radius_10km_False  CBD_radius_10km_True  CBD_radius_15km_False  \\\n",
       "0                      0                     1                      0   \n",
       "1                      0                     1                      0   \n",
       "2                      0                     1                      0   \n",
       "3                      0                     1                      0   \n",
       "4                      0                     1                      0   \n",
       "\n",
       "   CBD_radius_15km_True  CBD_radius_20km_True  MRT_radius_500m_False  \\\n",
       "0                     1                     1                      1   \n",
       "1                     1                     1                      1   \n",
       "2                     1                     1                      1   \n",
       "3                     1                     1                      1   \n",
       "4                     1                     1                      1   \n",
       "\n",
       "   MRT_radius_500m_True  MRT_radius_1000m_False  MRT_radius_1000m_True  \n",
       "0                     0                       1                      0  \n",
       "1                     0                       1                      0  \n",
       "2                     0                       0                      1  \n",
       "3                     0                       0                      1  \n",
       "4                     0                       0                      1  \n",
       "\n",
       "[5 rows x 28 columns]"
      ]
     },
     "execution_count": 49,
     "metadata": {},
     "output_type": "execute_result"
    }
   ],
   "source": [
    "# Drop the unneccessary \n",
    "gdf_onehot = gdf_onehot.drop(['geometry'],axis = 1)\n",
    "    \n",
    "# Final Dataframe\n",
    "gdf_onehot.head()"
   ]
  },
  {
   "cell_type": "code",
   "execution_count": 50,
   "metadata": {},
   "outputs": [
    {
     "name": "stdout",
     "output_type": "stream",
     "text": [
      "       Ln_resale_price  Ln_flat_size  Ln_leasing_year  Ln_distance_from_CBD  \\\n",
      "count     30858.000000  30858.000000     30858.000000          30858.000000   \n",
      "mean         12.950921      4.555293         4.251674              9.259452   \n",
      "std           0.243532      0.075701         0.164461              0.485374   \n",
      "min          12.292250      4.248495         3.806662              7.298573   \n",
      "25%          12.779873      4.510860         4.143135              9.127070   \n",
      "50%          12.911642      4.532599         4.262680              9.426754   \n",
      "75%          13.060488      4.634729         4.382027              9.561851   \n",
      "max          13.986845      4.905275         4.543295              9.782092   \n",
      "\n",
      "       Ln_distance_from_nearest_MRT  flat_size_small  flat_size_medium  \\\n",
      "count                  30858.000000     30858.000000      30858.000000   \n",
      "mean                       6.188067         0.285112          0.261002   \n",
      "std                        0.705150         0.451475          0.439188   \n",
      "min                        3.303137         0.000000          0.000000   \n",
      "25%                        5.719579         0.000000          0.000000   \n",
      "50%                        6.268566         0.000000          0.000000   \n",
      "75%                        6.711910         1.000000          1.000000   \n",
      "max                        7.676579         1.000000          1.000000   \n",
      "\n",
      "       flat_size_big  flat_size_vbig  floor_level_high  ...  \\\n",
      "count   30858.000000    30858.000000      30858.000000  ...   \n",
      "mean        0.258118        0.195768          0.350282  ...   \n",
      "std         0.437606        0.396797          0.477066  ...   \n",
      "min         0.000000        0.000000          0.000000  ...   \n",
      "25%         0.000000        0.000000          0.000000  ...   \n",
      "50%         0.000000        0.000000          0.000000  ...   \n",
      "75%         1.000000        0.000000          1.000000  ...   \n",
      "max         1.000000        1.000000          1.000000  ...   \n",
      "\n",
      "       CBD_radius_5km_True  CBD_radius_10km_False  CBD_radius_10km_True  \\\n",
      "count         30858.000000           30858.000000          30858.000000   \n",
      "mean              0.102923               0.725679              0.274321   \n",
      "std               0.303863               0.446179              0.446179   \n",
      "min               0.000000               0.000000              0.000000   \n",
      "25%               0.000000               0.000000              0.000000   \n",
      "50%               0.000000               1.000000              0.000000   \n",
      "75%               0.000000               1.000000              1.000000   \n",
      "max               1.000000               1.000000              1.000000   \n",
      "\n",
      "       CBD_radius_15km_False  CBD_radius_15km_True  CBD_radius_20km_True  \\\n",
      "count           30858.000000          30858.000000               30858.0   \n",
      "mean                0.179921              0.820079                   1.0   \n",
      "std                 0.384128              0.384128                   0.0   \n",
      "min                 0.000000              0.000000                   1.0   \n",
      "25%                 0.000000              1.000000                   1.0   \n",
      "50%                 0.000000              1.000000                   1.0   \n",
      "75%                 0.000000              1.000000                   1.0   \n",
      "max                 1.000000              1.000000                   1.0   \n",
      "\n",
      "       MRT_radius_500m_False  MRT_radius_500m_True  MRT_radius_1000m_False  \\\n",
      "count           30858.000000          30858.000000            30858.000000   \n",
      "mean                0.532893              0.467107                0.149686   \n",
      "std                 0.498925              0.498925                0.356769   \n",
      "min                 0.000000              0.000000                0.000000   \n",
      "25%                 0.000000              0.000000                0.000000   \n",
      "50%                 1.000000              0.000000                0.000000   \n",
      "75%                 1.000000              1.000000                0.000000   \n",
      "max                 1.000000              1.000000                1.000000   \n",
      "\n",
      "       MRT_radius_1000m_True  \n",
      "count           30858.000000  \n",
      "mean                0.850314  \n",
      "std                 0.356769  \n",
      "min                 0.000000  \n",
      "25%                 1.000000  \n",
      "50%                 1.000000  \n",
      "75%                 1.000000  \n",
      "max                 1.000000  \n",
      "\n",
      "[8 rows x 28 columns]\n",
      "Ln_resale_price                 float64\n",
      "Ln_flat_size                    float64\n",
      "Ln_leasing_year                 float64\n",
      "Ln_distance_from_CBD            float64\n",
      "Ln_distance_from_nearest_MRT    float64\n",
      "flat_size_small                   uint8\n",
      "flat_size_medium                  uint8\n",
      "flat_size_big                     uint8\n",
      "flat_size_vbig                    uint8\n",
      "floor_level_high                  uint8\n",
      "floor_level_low                   uint8\n",
      "floor_level_mid                   uint8\n",
      "floor_level_vhigh                 uint8\n",
      "leasing_year_short                uint8\n",
      "leasing_year_moderate             uint8\n",
      "leasing_year_long                 uint8\n",
      "leasing_year_vlong                uint8\n",
      "CBD_radius_5km_False              uint8\n",
      "CBD_radius_5km_True               uint8\n",
      "CBD_radius_10km_False             uint8\n",
      "CBD_radius_10km_True              uint8\n",
      "CBD_radius_15km_False             uint8\n",
      "CBD_radius_15km_True              uint8\n",
      "CBD_radius_20km_True              uint8\n",
      "MRT_radius_500m_False             uint8\n",
      "MRT_radius_500m_True              uint8\n",
      "MRT_radius_1000m_False            uint8\n",
      "MRT_radius_1000m_True             uint8\n",
      "dtype: object\n"
     ]
    }
   ],
   "source": [
    "# Final Dataframe\n",
    "print(gdf_onehot.describe())\n",
    "\n",
    "print(gdf_onehot.dtypes)\n"
   ]
  },
  {
   "cell_type": "markdown",
   "metadata": {},
   "source": [
    "# Step 4: Regression Model "
   ]
  },
  {
   "cell_type": "code",
   "execution_count": 51,
   "metadata": {},
   "outputs": [],
   "source": [
    "from sklearn.preprocessing import StandardScaler, MinMaxScaler \n",
    "from sklearn.model_selection import train_test_split, cross_val_score \n",
    "from sklearn.linear_model import LinearRegression\n",
    "from sklearn import linear_model\n",
    "from sklearn import metrics\n",
    "from sklearn.metrics import explained_variance_score, mean_squared_error, r2_score"
   ]
  },
  {
   "cell_type": "code",
   "execution_count": 52,
   "metadata": {},
   "outputs": [],
   "source": [
    "#Identify Features and Class Label\n",
    "\n",
    "X = gdf_onehot.drop(['Ln_resale_price'],axis = 1)\n",
    "Y = pd.DataFrame(gdf_onehot['Ln_resale_price'])\n",
    "\n",
    "#Split Data into training and testing\n",
    "X_train, X_test, Y_train, Y_test = train_test_split(X, Y, test_size=0.2, random_state=42)"
   ]
  },
  {
   "cell_type": "code",
   "execution_count": 53,
   "metadata": {},
   "outputs": [
    {
     "name": "stdout",
     "output_type": "stream",
     "text": [
      "Fitting 5 folds for each of 26 candidates, totalling 130 fits\n"
     ]
    },
    {
     "name": "stderr",
     "output_type": "stream",
     "text": [
      "[Parallel(n_jobs=1)]: Using backend SequentialBackend with 1 concurrent workers.\n",
      "[Parallel(n_jobs=1)]: Done 130 out of 130 | elapsed:   23.0s finished\n"
     ]
    },
    {
     "data": {
      "text/plain": [
       "GridSearchCV(cv=KFold(n_splits=5, random_state=100, shuffle=True),\n",
       "             estimator=RFE(estimator=LinearRegression()),\n",
       "             param_grid=[{'n_features_to_select': [1, 2, 3, 4, 5, 6, 7, 8, 9,\n",
       "                                                   10, 11, 12, 13, 14, 15, 16,\n",
       "                                                   17, 18, 19, 20, 21, 22, 23,\n",
       "                                                   24, 25, 26]}],\n",
       "             return_train_score=True, scoring='r2', verbose=1)"
      ]
     },
     "execution_count": 53,
     "metadata": {},
     "output_type": "execute_result"
    }
   ],
   "source": [
    "from sklearn.feature_selection import RFE\n",
    "from sklearn.linear_model import LinearRegression\n",
    "from sklearn.model_selection import cross_val_score\n",
    "from sklearn.model_selection import KFold\n",
    "from sklearn.model_selection import GridSearchCV\n",
    "from sklearn.pipeline import make_pipeline\n",
    "\n",
    "# step-1: create a cross-validation scheme\n",
    "folds = KFold(n_splits = 5, shuffle = True, random_state = 100)\n",
    "\n",
    "# step-2: specify range of hyperparameters to tune\n",
    "hyper_params = [{'n_features_to_select': list(range(1, 27))}]\n",
    "\n",
    "\n",
    "# step-3: perform grid search\n",
    "# 3.1 specify model\n",
    "lm = LinearRegression()\n",
    "lm.fit(X_train, Y_train)  \n",
    "rfe = RFE(lm)             \n",
    "\n",
    "# 3.2 call GridSearchCV()\n",
    "model_cv = GridSearchCV(estimator = rfe, \n",
    "                        param_grid = hyper_params, \n",
    "                        scoring= 'r2', \n",
    "                        cv = folds, \n",
    "                        verbose = 1,\n",
    "                        return_train_score=True)      \n",
    "\n",
    "# fit the model\n",
    "model_cv.fit(X_train, Y_train)           "
   ]
  },
  {
   "cell_type": "code",
   "execution_count": 54,
   "metadata": {},
   "outputs": [
    {
     "data": {
      "text/plain": [
       "<matplotlib.legend.Legend at 0x2c9fb1a02b0>"
      ]
     },
     "execution_count": 54,
     "metadata": {},
     "output_type": "execute_result"
    },
    {
     "data": {
      "image/png": "[encoded data removed]",
      "text/plain": [
       "<Figure size 1152x432 with 1 Axes>"
      ]
     },
     "metadata": {
      "needs_background": "light"
     },
     "output_type": "display_data"
    }
   ],
   "source": [
    "cv_results = pd.DataFrame(model_cv.cv_results_)\n",
    "\n",
    "# plotting cv results\n",
    "plt.figure(figsize=(16,6))\n",
    "\n",
    "plt.plot(cv_results[\"param_n_features_to_select\"], cv_results[\"mean_test_score\"])\n",
    "plt.plot(cv_results[\"param_n_features_to_select\"], cv_results[\"mean_train_score\"])\n",
    "plt.xlabel('number of features')\n",
    "plt.ylabel('r-squared')\n",
    "plt.title(\"Optimal Number of Features\")\n",
    "plt.legend(['test score', 'train score'], loc='upper left')"
   ]
  },
  {
   "cell_type": "code",
   "execution_count": 55,
   "metadata": {},
   "outputs": [
    {
     "name": "stdout",
     "output_type": "stream",
     "text": [
      "\n",
      "Training RMSE: 0.0232\n",
      "Validation RMSE: 0.024\n",
      "\n",
      "Training r2: 0.608\n",
      "Validation r2: 0.594\n"
     ]
    }
   ],
   "source": [
    "# final model\n",
    "n_features_optimal = model_cv.best_index_\n",
    "\n",
    "lm = LinearRegression()\n",
    "lm.fit(X_train, Y_train)\n",
    "\n",
    "rfe = RFE(lm, n_features_to_select=n_features_optimal)             \n",
    "rfe = rfe.fit(X_train, Y_train)\n",
    "\n",
    "# predict prices for training & testing \n",
    "Y_pred_train = lm.predict(X_train)\n",
    "Y_pred_test = lm.predict(X_test)\n",
    "\n",
    "#Results\n",
    "# Check the predictions against the actual values by using the MSE and R-2 metrics:\n",
    "print(\"\\nTraining RMSE:\", round(mean_squared_error(Y_train, Y_pred_train),4))\n",
    "print(\"Validation RMSE:\", round(mean_squared_error(Y_test, Y_pred_test),4))\n",
    "print(\"\\nTraining r2:\", round(r2_score(Y_train, Y_pred_train),3))\n",
    "print(\"Validation r2:\", round(r2_score(Y_test, Y_pred_test),3))"
   ]
  },
  {
   "cell_type": "code",
   "execution_count": 65,
   "metadata": {},
   "outputs": [
    {
     "name": "stdout",
     "output_type": "stream",
     "text": [
      "Ln_flat_size                    4.979392e-01\n",
      "Ln_leasing_year                -7.887286e-03\n",
      "Ln_distance_from_CBD           -2.942612e-01\n",
      "Ln_distance_from_nearest_MRT   -2.575399e-02\n",
      "flat_size_small                -1.257533e+11\n",
      "flat_size_medium               -1.257533e+11\n",
      "flat_size_big                  -1.257533e+11\n",
      "flat_size_vbig                 -1.257533e+11\n",
      "floor_level_high               -9.827417e+10\n",
      "floor_level_low                -9.827417e+10\n",
      "floor_level_mid                -9.827417e+10\n",
      "floor_level_vhigh              -9.827417e+10\n",
      "leasing_year_short              1.441516e+11\n",
      "leasing_year_moderate           1.441516e+11\n",
      "leasing_year_long               1.441516e+11\n",
      "leasing_year_vlong              1.441516e+11\n",
      "CBD_radius_5km_False           -2.161268e+10\n",
      "CBD_radius_5km_True            -2.161268e+10\n",
      "CBD_radius_10km_False           1.916187e+12\n",
      "CBD_radius_10km_True            1.916187e+12\n",
      "CBD_radius_15km_False          -5.803352e+11\n",
      "CBD_radius_15km_True           -5.803352e+11\n",
      "CBD_radius_20km_True            0.000000e+00\n",
      "MRT_radius_500m_False          -4.762103e+10\n",
      "MRT_radius_500m_True           -4.762103e+10\n",
      "MRT_radius_1000m_False          1.820699e+11\n",
      "MRT_radius_1000m_True           1.820699e+11\n",
      "dtype: float64\n",
      "intercept   -1.368812e+12\n",
      "dtype: float64\n"
     ]
    }
   ],
   "source": [
    "# Regression coefficients and intercept\n",
    "print(pd.Series(lm.coef_[0], index= X.columns))\n",
    "print(pd.Series(lm.intercept_[0], index= ['intercept']))"
   ]
  }
 ],
 "metadata": {
  "kernelspec": {
   "display_name": "Python 3",
   "language": "python",
   "name": "python3"
  },
  "language_info": {
   "codemirror_mode": {
    "name": "ipython",
    "version": 3
   },
   "file_extension": ".py",
   "mimetype": "text/x-python",
   "name": "python",
   "nbconvert_exporter": "python",
   "pygments_lexer": "ipython3",
   "version": "3.8.5"
  }
 },
 "nbformat": 4,
 "nbformat_minor": 4
}
